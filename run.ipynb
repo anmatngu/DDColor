{
 "cells": [
  {
   "cell_type": "code",
   "execution_count": 2,
   "metadata": {},
   "outputs": [
    {
     "name": "stderr",
     "output_type": "stream",
     "text": [
      "2024-05-29 12:18:23,910 - modelscope - INFO - PyTorch version 2.2.0+cu118 Found.\n",
      "2024-05-29 12:18:23,913 - modelscope - INFO - Loading ast index from C:\\Users\\nguye\\.cache\\modelscope\\ast_indexer\n",
      "2024-05-29 12:18:24,083 - modelscope - INFO - Loading done! Current index file version is 1.14.0, with md5 d6309e899d17bac80f1bfe7da1209892 and a total number of 976 components indexed\n",
      "c:\\Users\\nguye\\anaconda3\\envs\\ddcolor\\lib\\site-packages\\tqdm\\auto.py:21: TqdmWarning: IProgress not found. Please update jupyter and ipywidgets. See https://ipywidgets.readthedocs.io/en/stable/user_install.html\n",
      "  from .autonotebook import tqdm as notebook_tqdm\n",
      "2024-05-29 12:18:27,895 - modelscope - WARNING - Model revision not specified, use revision: v1.02\n",
      "2024-05-29 12:18:30,572 - modelscope - INFO - initiate model from C:\\Users\\nguye\\.cache\\modelscope\\hub\\damo\\cv_ddcolor_image-colorization\n",
      "2024-05-29 12:18:30,573 - modelscope - INFO - initiate model from location C:\\Users\\nguye\\.cache\\modelscope\\hub\\damo\\cv_ddcolor_image-colorization.\n",
      "2024-05-29 12:18:30,576 - modelscope - INFO - initialize model from C:\\Users\\nguye\\.cache\\modelscope\\hub\\damo\\cv_ddcolor_image-colorization\n",
      "2024-05-29 12:18:36,178 - modelscope - INFO - Loading DDColor model from C:\\Users\\nguye\\.cache\\modelscope\\hub\\damo\\cv_ddcolor_image-colorization\\pytorch_model.pt, with param key: [params].\n",
      "2024-05-29 12:18:36,564 - modelscope - INFO - load model done.\n",
      "2024-05-29 12:18:36,575 - modelscope - WARNING - No preprocessor field found in cfg.\n",
      "2024-05-29 12:18:36,576 - modelscope - WARNING - No val key and type key found in preprocessor domain of configuration.json file.\n",
      "2024-05-29 12:18:36,576 - modelscope - WARNING - Cannot find available config to build preprocessor at mode inference, current config: {'model_dir': 'C:\\\\Users\\\\nguye\\\\.cache\\\\modelscope\\\\hub\\\\damo\\\\cv_ddcolor_image-colorization'}. trying to build by task and model information.\n",
      "2024-05-29 12:18:36,577 - modelscope - WARNING - No preprocessor key ('ddcolor', 'image-colorization') found in PREPROCESSOR_MAP, skip building preprocessor.\n",
      "2024-05-29 12:18:36,583 - modelscope - INFO - load model done\n"
     ]
    },
    {
     "data": {
      "text/plain": [
       "True"
      ]
     },
     "execution_count": 2,
     "metadata": {},
     "output_type": "execute_result"
    }
   ],
   "source": [
    "import cv2\n",
    "from modelscope.outputs import OutputKeys\n",
    "from modelscope.pipelines import pipeline\n",
    "from modelscope.utils.constant import Tasks\n",
    "\n",
    "img_colorization = pipeline(\n",
    "    Tasks.image_colorization,\n",
    "    model='damo/cv_ddcolor_image-colorization',\n",
    "    device='cuda'\n",
    ")\n",
    "\n",
    "result = img_colorization('https://modelscope.oss-cn-beijing.aliyuncs.com/test/images/audrey_hepburn.jpg')\n",
    "cv2.imwrite('result.png', result[OutputKeys.OUTPUT_IMG])"
   ]
  },
  {
   "cell_type": "code",
   "execution_count": 1,
   "metadata": {},
   "outputs": [
    {
     "name": "stderr",
     "output_type": "stream",
     "text": [
      "2024-05-29 12:10:59,821 - modelscope - INFO - PyTorch version 2.2.0 Found.\n",
      "2024-05-29 12:10:59,825 - modelscope - INFO - Loading ast index from C:\\Users\\nguye\\.cache\\modelscope\\ast_indexer\n",
      "2024-05-29 12:10:59,974 - modelscope - INFO - Loading done! Current index file version is 1.14.0, with md5 d6309e899d17bac80f1bfe7da1209892 and a total number of 976 components indexed\n",
      "2024-05-29 12:11:01,197 - modelscope - WARNING - Model revision not specified, use revision: v1.02\n",
      "Downloading: 100%|██████████| 1.39k/1.39k [00:00<00:00, 475kB/s]\n",
      "Downloading: 100%|██████████| 235k/235k [00:00<00:00, 262kB/s]\n",
      "Downloading: 100%|██████████| 199k/199k [00:00<00:00, 237kB/s]\n",
      "Downloading: 100%|██████████| 94.9k/94.9k [00:00<00:00, 116kB/s]\n",
      "Downloading: 100%|██████████| 117k/117k [00:01<00:00, 112kB/s]\n",
      "Downloading: 100%|█████████▉| 870M/870M [04:06<00:00, 3.70MB/s]\n",
      "Downloading: 100%|██████████| 3.44k/3.44k [00:00<00:00, 586kB/s]"
     ]
    },
    {
     "name": "stdout",
     "output_type": "stream",
     "text": [
      "model assets saved to ./modelscope\\damo\\cv_ddcolor_image-colorization\n"
     ]
    },
    {
     "name": "stderr",
     "output_type": "stream",
     "text": [
      "\n"
     ]
    }
   ],
   "source": [
    "from modelscope.hub.snapshot_download import snapshot_download\n",
    "\n",
    "model_dir = snapshot_download('damo/cv_ddcolor_image-colorization', cache_dir='./modelscope')\n",
    "print('model assets saved to %s'%model_dir)"
   ]
  },
  {
   "cell_type": "code",
   "execution_count": 1,
   "metadata": {},
   "outputs": [
    {
     "name": "stdout",
     "output_type": "stream",
     "text": [
      "Is CUDA available: True\n",
      "Number of GPUs: 1\n",
      "Current device: 0\n"
     ]
    }
   ],
   "source": [
    "import torch\n",
    "\n",
    "print(f\"Is CUDA available: {torch.cuda.is_available()}\")\n",
    "print(f\"Number of GPUs: {torch.cuda.device_count()}\")\n",
    "print(f\"Current device: {torch.cuda.current_device()}\")"
   ]
  }
 ],
 "metadata": {
  "kernelspec": {
   "display_name": "ddcolor",
   "language": "python",
   "name": "python3"
  },
  "language_info": {
   "codemirror_mode": {
    "name": "ipython",
    "version": 3
   },
   "file_extension": ".py",
   "mimetype": "text/x-python",
   "name": "python",
   "nbconvert_exporter": "python",
   "pygments_lexer": "ipython3",
   "version": "3.9.19"
  }
 },
 "nbformat": 4,
 "nbformat_minor": 2
}
